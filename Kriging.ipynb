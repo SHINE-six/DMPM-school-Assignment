{
 "cells": [
  {
   "cell_type": "code",
   "execution_count": null,
   "metadata": {},
   "outputs": [],
   "source": [
    "pip install pykrige\n"
   ]
  },
  {
   "cell_type": "code",
   "execution_count": null,
   "metadata": {},
   "outputs": [],
   "source": [
    "import numpy as np\n",
    "\n",
    "# Define grid\n",
    "grid_lon = np.arange(100.119736916, 104.324765220, 0.09)\n",
    "grid_lat = np.arange(1.255854330,6.721694625, 0.09)\n",
    "\n",
    "metadata = {\n",
    "    'API_18': \n",
    "    {\n",
    "        'data_source': 'PreparedDataSet\\\\API_18.csv',\n",
    "        'variogram_model': 'spherical',\n",
    "        'range' : 1.5,\n",
    "        'nugget' : 25,\n",
    "        'sill' : 43\n",
    "    },\n",
    "    'API_19': # havent tune\n",
    "    {\n",
    "        'data_source': 'PreparedDataSet\\\\API_19.csv',\n",
    "        'variogram_model': 'spherical',\n",
    "        'range' : 1.5,\n",
    "        'nugget' : 35,\n",
    "        'sill' : 60\n",
    "    },\n",
    "    'Meteo_18': # havent tune\n",
    "    {\n",
    "        'data_source': 'PreparedDataSet\\\\Meteo_18.csv',\n",
    "        'variogram_model': 'spherical',\n",
    "        'range' : 1.5,\n",
    "        'nugget' : 25,\n",
    "        'sill' : 43\n",
    "    },\n",
    "    'Meteo_19': # havent tune\n",
    "    {\n",
    "        'data_source': 'PreparedDataSet\\\\Meteo_19.csv',\n",
    "        'variogram_model': 'spherical',\n",
    "        'range' : 1.5,\n",
    "        'nugget' : 25,\n",
    "        'sill' : 43\n",
    "    },\n",
    "    'Vegetation_18': # havent tune\n",
    "    {\n",
    "        'data_source': 'PreparedDataSet\\\\Vegetation_1819.csv',\n",
    "        'variogram_model': 'spherical',\n",
    "        'range' : 1.5,\n",
    "        'nugget' : 25,\n",
    "        'sill' : 43\n",
    "    },\n",
    "    'Vegetation_19': # havent tune\n",
    "    {\n",
    "        'data_source': 'PreparedDataSet\\\\Vegetation_1819.csv',\n",
    "        'variogram_model': 'spherical',\n",
    "        'range' : 1.5,\n",
    "        'nugget' : 25,\n",
    "        'sill' : 43\n",
    "    },\n",
    "    'Traffic_18': # havent tune\n",
    "    {\n",
    "        'data_source': 'PreparedDataSet\\\\Traffic_1819.csv',\n",
    "        'variogram_model': 'spherical',\n",
    "        'range' : 1.5,\n",
    "        'nugget' : 25,\n",
    "        'sill' : 43\n",
    "    },\n",
    "}"
   ]
  },
  {
   "cell_type": "code",
   "execution_count": null,
   "metadata": {},
   "outputs": [],
   "source": [
    "import pandas as pd\n",
    "\n",
    "data = 'API_19'\n",
    "\n",
    "# Read the CSV file\n",
    "df = pd.read_csv(metadata[data]['data_source'])\n",
    "\n",
    "print(df.columns)\n",
    "while True:\n",
    "    target = input('Please set your target variable: ')\n",
    "    if target in df.columns:\n",
    "        break\n",
    "    else:\n",
    "        print('Please enter a valid target variable')\n",
    "\n",
    "\n",
    "# Extract columns\n",
    "lon = df['lon'].values\n",
    "lat = df['lat'].values\n",
    "target = df[target].values"
   ]
  },
  {
   "cell_type": "code",
   "execution_count": null,
   "metadata": {},
   "outputs": [],
   "source": [
    "from pykrige.ok import OrdinaryKriging\n",
    "\n",
    "# OK = OrdinaryKriging(lon, lat, target, variogram_model='spherical', enable_plotting=True, verbose=True\n",
    "#                      ,variogram_parameters={'range': 1.5, 'nugget': 35, 'sill': 60})\n",
    "OK = OrdinaryKriging(lon, lat, target, \n",
    "                     variogram_model= metadata[data]['variogram_model'] , enable_plotting=True, verbose=True,\n",
    "                     variogram_parameters={'range': metadata[data]['range'], 'nugget': metadata[data]['nugget'], 'sill': metadata[data]['sill']})\n",
    "\n",
    "\n",
    "# Range: the distance beyond which points are not correlated; AKA the spread of influence of each point\n",
    "# Nugget: the y-intercept of the variogram; AKA the measurement error\n",
    "# Sill: the maximum variance possible; AKA the measurement variance plus the nugget\n",
    "\n",
    "z_interp, ss = OK.execute('grid', grid_lon.flatten(), grid_lat.flatten())\n",
    "print(z_interp.shape)"
   ]
  },
  {
   "cell_type": "code",
   "execution_count": null,
   "metadata": {},
   "outputs": [],
   "source": [
    "# Check and tune\n",
    "\n",
    "from matplotlib import pyplot as plt\n",
    "\n",
    "\n",
    "cax = plt.imshow(z_interp, extent=(100.119736916, 104.324765220, 1.255854330,6.721694625), origin='lower')\n",
    "plt.scatter(lon, lat, c=target)\n",
    "plt.colorbar(cax)\n",
    "plt.xlabel('Longitude')\n",
    "plt.ylabel('Latitude')\n",
    "plt.title(f'Kriging Interpolation ({metadata[data]['variogram_model']}) for {data} in West Malaysia')\n"
   ]
  },
  {
   "cell_type": "markdown",
   "metadata": {},
   "source": [
    "INTERPOLATION automation\n"
   ]
  },
  {
   "cell_type": "code",
   "execution_count": 55,
   "metadata": {},
   "outputs": [
    {
     "name": "stdout",
     "output_type": "stream",
     "text": [
      "(61, 47)\n"
     ]
    }
   ],
   "source": [
    "import pandas as pd\n",
    "\n",
    "# Convert z_interp to a dataframe\n",
    "df_z_interp = pd.DataFrame(z_interp)\n",
    "print(df_z_interp.shape)\n",
    "\n",
    "# Flip dataframe vertically\n",
    "df_z_interp = df_z_interp.iloc[::-1]"
   ]
  },
  {
   "cell_type": "code",
   "execution_count": 61,
   "metadata": {},
   "outputs": [
    {
     "name": "stdout",
     "output_type": "stream",
     "text": [
      "The rpy2.ipython extension is already loaded. To reload it, use:\n",
      "  %reload_ext rpy2.ipython\n"
     ]
    }
   ],
   "source": [
    "# To run R in Jupyter Notebook\n",
    "%load_ext rpy2.ipython"
   ]
  },
  {
   "cell_type": "code",
   "execution_count": 62,
   "metadata": {},
   "outputs": [],
   "source": [
    "%R -i df_z_interp   # Pass the dataframe to R\n",
    "%R -i data                  # Pass the data name to R"
   ]
  },
  {
   "cell_type": "code",
   "execution_count": 68,
   "metadata": {},
   "outputs": [],
   "source": [
    "%%R\n",
    "# automate insert columns of data from df_z_interp into one column in target dataframe\n",
    "target2867Structure_file = read.csv('QGIS\\\\StructureGrid\\\\2867_holdplace.csv')\n",
    "hold_data = data.frame()\n",
    "for (i in 1:47){\n",
    "  for ( j in 1:61){\n",
    "    hold_data = rbind(hold_data, df_z_interp[j,i])\n",
    "  }\n",
    "}\n",
    "done = data.frame()\n",
    "done = cbind(target2867Structure_file, hold_data)\n",
    "colnames(done)[8] = data\n",
    "\n",
    "filename = paste('z_interp\\\\z_interp_', data, '.csv', sep = '')\n",
    "write.csv(done, filename, row.names = FALSE)"
   ]
  },
  {
   "cell_type": "code",
   "execution_count": null,
   "metadata": {},
   "outputs": [],
   "source": [
    "####\n",
    "####\n",
    "#!!!! only run this once to create the final superset csv file\n",
    "####\n",
    "####\n",
    "# SUPERSET\n",
    "import shutil\n",
    "source_file = 'QGIS\\\\Result\\\\StructureGrid\\\\966_targetGrid.csv'\n",
    "destination_file = 'FinalSuperset\\\\FinalSuperset.csv'\n",
    "shutil.copyfile(source_file, destination_file)"
   ]
  },
  {
   "cell_type": "markdown",
   "metadata": {},
   "source": [
    "GO to QGIS\n",
    "<br><br>\n",
    "Import z_interp file to QGIS\n",
    "<br>\n",
    "<img src=\"asset\\Import_Z_interp.png\" alt=\"alt text\" width=\"500\" height=\"300\">\n",
    "<br><br>\n",
    "Create Grid based on West Malaysia shapefile (more info, contact me)\n",
    "<br>\n",
    "<img src=\"asset\\Create_Grid.png\" alt=\"alt text\" width=\"500\" height=\"300\">\n",
    "<br><br>\n",
    "Clip the grid to west malaysia\n",
    "<br>\n",
    "<img src=\"asset\\Clip_gridToWestMalaysia.png\" alt=\"alt text\" width=\"500\" height=\"300\">\n",
    "<br><br>\n",
    "Join attribute By Location\n",
    "<br>\n",
    "<img src=\"asset\\JoinAttrByLocation.png\" alt=\"alt text\" width=\"500\" height=\"300\">\n",
    "<br><br>\n",
    "Export the layer as grided_{data}\n",
    "<br>\n",
    "<img src=\"asset\\export_Grided.png\" alt=\"alt text\" width=\"500\" height=\"300\">\n",
    "<br><br>\n",
    "Brief showcase of the four layer, (not including gradien color)\n",
    "<br>\n",
    "<img src=\"asset\\briefShowcase.gif\" alt=\"alt text\" width=\"500\" height=\"300\">"
   ]
  },
  {
   "cell_type": "code",
   "execution_count": 69,
   "metadata": {},
   "outputs": [
    {
     "name": "stdout",
     "output_type": "stream",
     "text": [
      "`summarise()` has grouped output by 'id', 'left', 'top', 'right', 'bottom',\n",
      "'row_index'. You can override using the `.groups` argument.\n"
     ]
    },
    {
     "data": {
      "text/plain": [
       "\n",
       "Attaching package: 'dplyr'\n",
       "\n",
       "The following objects are masked from 'package:stats':\n",
       "\n",
       "    filter, lag\n",
       "\n",
       "The following objects are masked from 'package:base':\n",
       "\n",
       "    intersect, setdiff, setequal, union\n",
       "\n"
      ]
     },
     "metadata": {},
     "output_type": "display_data"
    }
   ],
   "source": [
    "%%R\n",
    "library(dplyr)\n",
    "# grouping QGIS result into 966 grids/ records\n",
    "filename = paste('QGIS\\\\Result\\\\grided_', data, '.csv', sep = '')\n",
    "grided_target = read.csv(filename)\n",
    "\n",
    "grided_target <- grided_target %>% \n",
    "    group_by(id, left, top, right, bottom, row_index, col_index) %>% \n",
    "    summarize(!!data := mean(!!sym(data)))\n",
    "\n",
    "# Write the new dataframe to final supeset csv file\n",
    "superset = read.csv('FinalSuperset\\\\FinalSuperset.csv')\n",
    "last_column = ncol(grided_target)\n",
    "superset = cbind(superset, grided_target[,last_column])\n",
    "write.csv(superset, 'FinalSuperset\\\\FinalSuperset.csv', row.names = FALSE)\n"
   ]
  }
 ],
 "metadata": {
  "kernelspec": {
   "display_name": "Python 3",
   "language": "python",
   "name": "python3"
  },
  "language_info": {
   "codemirror_mode": {
    "name": "ipython",
    "version": 3
   },
   "file_extension": ".py",
   "mimetype": "text/x-python",
   "name": "python",
   "nbconvert_exporter": "python",
   "pygments_lexer": "ipython3",
   "version": "3.12.0"
  }
 },
 "nbformat": 4,
 "nbformat_minor": 2
}
