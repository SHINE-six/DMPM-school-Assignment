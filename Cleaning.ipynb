{
 "cells": [
  {
   "cell_type": "code",
   "execution_count": 19,
   "metadata": {},
   "outputs": [],
   "source": [
    "import pandas as pd\n",
    "\n",
    "FinalSuperset = pd.read_csv(\"FinalSuperset\\\\FinalSuperset.csv\")\n",
    "\n",
    "FinalSuperset_18 = FinalSuperset[['id', 'left', 'top', 'right', 'bottom', 'row_index', 'col_index', 'API_18', 'Temp_18', 'Humidity_18', 'Precip_18', 'Wind_18', 'Vegetation_18', 'Traffic_18', 'Building', 'Altitude', 'Population_18']]\n",
    "FinalSuperset_19 = FinalSuperset[['id', 'left', 'top', 'right', 'bottom', 'row_index', 'col_index', 'API_19', 'Temp_19', 'Humidity_19', 'Precip_19', 'Wind_19', 'Vegetation_19', 'Traffic_19', 'Building', 'Altitude', 'Population_19']]\n",
    "\n",
    "# FinalSuperset_18 = FinalSuperset_18.rename(columns={'API_18': 'API', 'Temp_18': 'Temp', 'Humidity_18': 'Humidity', 'Wind_18': 'Wind', 'Vegetation_18': 'Vegetation', 'Traffic_18': 'Traffic', 'Population_18': 'Population'})\n",
    "# FinalSuperset_19 = FinalSuperset_19.rename(columns={'API_19': 'API', 'Temp_19': 'Temp', 'Humidity_19': 'Humidity', 'Wind_19': 'Wind', 'Vegetation_19': 'Vegetation', 'Traffic_19': 'Traffic', 'Population_19': 'Population'})\n",
    "\n",
    "# FinalSuperset_18['year'] = '2018'\n",
    "# FinalSuperset_19['year'] = '2019'\n",
    "\n",
    "FinalSuperset_18.to_csv(\"FinalSuperset\\\\FinalSuperset_18.csv\", index=True)\n",
    "FinalSuperset_19.to_csv(\"FinalSuperset\\\\FinalSuperset_19.csv\", index=True)\n",
    "# pd.concat([FinalSuperset_18, FinalSuperset_19]).to_csv(\"FinalSuperset\\\\FinalSuperset.csv\", index=False)"
   ]
  }
 ],
 "metadata": {
  "kernelspec": {
   "display_name": "Python 3",
   "language": "python",
   "name": "python3"
  },
  "language_info": {
   "codemirror_mode": {
    "name": "ipython",
    "version": 3
   },
   "file_extension": ".py",
   "mimetype": "text/x-python",
   "name": "python",
   "nbconvert_exporter": "python",
   "pygments_lexer": "ipython3",
   "version": "3.12.0"
  }
 },
 "nbformat": 4,
 "nbformat_minor": 2
}
