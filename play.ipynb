{
 "cells": [
  {
   "cell_type": "code",
   "execution_count": 1,
   "metadata": {},
   "outputs": [
    {
     "name": "stderr",
     "output_type": "stream",
     "text": [
      "c:\\Users\\TUF\\AppData\\Local\\Programs\\Python\\Python312\\Lib\\site-packages\\rpy2\\robjects\\packages.py:367: UserWarning: The symbol 'quartz' is not in this R namespace/package.\n",
      "  warnings.warn(\n"
     ]
    }
   ],
   "source": [
    "# To run R in Jupyter Notebook\n",
    "%load_ext rpy2.ipython"
   ]
  },
  {
   "cell_type": "code",
   "execution_count": 5,
   "metadata": {},
   "outputs": [],
   "source": [
    "%%R\n",
    "# Data Preparation for Air Pollution Index\n",
    "\n",
    "API = read.csv(\"RawDataSet\\\\APIMS-final.csv\",header=TRUE)       # Read the data\n",
    "API$Time = strptime(API$Time, format = \"%d-%m-%y %H:%M\")    # Change the format of Time\n",
    "API$Time = format(API$Time, \"%Y\")                                               # Change the time attribute only the year\n",
    "API$Time = as.integer(API$Time)                                                     # Change the format of Time to integer\n",
    "API = as.data.frame(lapply(API, as.integer))                                      # I also don't know why I need to do this\n",
    "\n",
    "API_18 = subset(API, Time == 2018)                    # Subset the data to only 2018 and 2019\n",
    "API_18 = round(colMeans(API_18, na.rm = TRUE), digits = 0)\n",
    "API_18 = data.frame(API_18)"
   ]
  },
  {
   "cell_type": "code",
   "execution_count": 6,
   "metadata": {},
   "outputs": [],
   "source": [
    "%R -o API_18"
   ]
  },
  {
   "cell_type": "code",
   "execution_count": 10,
   "metadata": {},
   "outputs": [],
   "source": []
  }
 ],
 "metadata": {
  "kernelspec": {
   "display_name": "Python 3",
   "language": "python",
   "name": "python3"
  },
  "language_info": {
   "codemirror_mode": {
    "name": "ipython",
    "version": 3
   },
   "file_extension": ".py",
   "mimetype": "text/x-python",
   "name": "python",
   "nbconvert_exporter": "python",
   "pygments_lexer": "ipython3",
   "version": "3.12.0"
  }
 },
 "nbformat": 4,
 "nbformat_minor": 2
}
